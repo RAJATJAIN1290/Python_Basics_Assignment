{
 "cells": [
  {
   "cell_type": "markdown",
   "id": "2ba0b107",
   "metadata": {},
   "source": [
    "#                                      Theory Question"
   ]
  },
  {
   "cell_type": "markdown",
   "id": "f8423f5b",
   "metadata": {},
   "source": [
    "### What is Python, and why is it popular?\n",
    "\n",
    "Python is a high-level, interpreted programming language known for its simplicity and readability. It is popular because it has a simple syntax, supports multiple paradigms, offers a vast collection of libraries, and is used in various fields like web development, data science, AI, ML, and automation."
   ]
  },
  {
   "cell_type": "markdown",
   "id": "8d95040a",
   "metadata": {},
   "source": [
    "### What is an interpreter in Python?\n",
    "\n",
    "An interpreter executes Python code line by line, rather than compiling the entire program before execution."
   ]
  },
  {
   "cell_type": "markdown",
   "id": "4aa948a7",
   "metadata": {},
   "source": [
    "### What are pre-defined keywords in Python?\n",
    "\n",
    "Pre-defined keywords are reserved words with special meanings, such as if, import, elif etc"
   ]
  },
  {
   "cell_type": "markdown",
   "id": "e8998952",
   "metadata": {},
   "source": [
    "### Can keywords be used as variable names?\n",
    "\n",
    "No, Python does not allow using keywords as variable names."
   ]
  },
  {
   "cell_type": "markdown",
   "id": "f74a0d49",
   "metadata": {},
   "source": [
    "### What is mutability in Python?\n",
    "\n",
    "Mutability refers to whether an object’s value can be changed after creation. Mutable objects include lists and dictionaries, while immutable objects include strings and tuples."
   ]
  },
  {
   "cell_type": "markdown",
   "id": "8f6a3662",
   "metadata": {},
   "source": [
    "### Why are lists mutable, but tuples are immutable?\n",
    "\n",
    "Lists are mutable as they allow dynamic changes, while tuples are immutable for better performance and security."
   ]
  },
  {
   "cell_type": "markdown",
   "id": "68906b5a",
   "metadata": {},
   "source": [
    "### Difference between == and is operators in Python\n",
    "\n",
    "`==` checks if values are equal, whereas `is` checks if objects refer to the same memory location."
   ]
  },
  {
   "cell_type": "markdown",
   "id": "bed82a2c",
   "metadata": {},
   "source": [
    "### Logical Operators in Python\n",
    "\n",
    "Python provides three logical operators:\n",
    "- `and`: Returns True if both conditions are True.\n",
    "- `or`: Returns True if at least one condition is True.\n",
    "- `not`: Reverses the boolean value."
   ]
  },
  {
   "cell_type": "markdown",
   "id": "507c61e2",
   "metadata": {},
   "source": [
    "### What is Type Casting in Python?\n",
    "\n",
    "Type casting is the process of converting one data type to another, either implicitly or explicitly."
   ]
  },
  {
   "cell_type": "markdown",
   "id": "ff13a1aa",
   "metadata": {},
   "source": [
    "### Difference Between Implicit and Explicit Type Casting\n",
    "\n",
    "Implicit type casting is automatically handled by Python, whereas explicit type casting requires the use of functions like `int()` etc."
   ]
  },
  {
   "cell_type": "markdown",
   "id": "912afefc",
   "metadata": {},
   "source": [
    "### Purpose of Conditional Statements in Python\n",
    "\n",
    "Conditional statements control the flow of execution based on conditions, allowing the program to make decisions."
   ]
  },
  {
   "cell_type": "markdown",
   "id": "cc69cfa8",
   "metadata": {},
   "source": [
    "### How does the elif statement work?\n",
    "\n",
    "elif allows multiple conditions to be checked sequentially. If the first condition is false, the next one is evaluated."
   ]
  },
  {
   "cell_type": "markdown",
   "id": "2282a3c1",
   "metadata": {},
   "source": [
    "### Difference between for and while loops\n",
    "\n",
    "`for` loops are used when the number of iterations is known, while `while` loops are used when the number of iterations is unknown and depends on a condition."
   ]
  },
  {
   "cell_type": "markdown",
   "id": "50782699",
   "metadata": {},
   "source": [
    "### Scenario where a while loop is more suitable\n",
    "\n",
    "A `while` loop is more suitable when the number of iterations is not predefined, such as in user input validation or waiting for a condition to be met."
   ]
  },
  {
   "cell_type": "markdown",
   "id": "b82ce6f2",
   "metadata": {},
   "source": [
    "#                               Practical Question"
   ]
  },
  {
   "cell_type": "markdown",
   "id": "5f2688f4",
   "metadata": {},
   "source": [
    "### Write a Python program to print 'Hello, World!'"
   ]
  },
  {
   "cell_type": "code",
   "execution_count": 1,
   "id": "9dce5726",
   "metadata": {},
   "outputs": [
    {
     "name": "stdout",
     "output_type": "stream",
     "text": [
      "Hello, World!\n"
     ]
    }
   ],
   "source": [
    "\n",
    "print('Hello, World!')"
   ]
  },
  {
   "cell_type": "markdown",
   "id": "f2949ca9",
   "metadata": {},
   "source": [
    "### Write a Python program that displays your name and age"
   ]
  },
  {
   "cell_type": "code",
   "execution_count": 2,
   "id": "5505d465",
   "metadata": {},
   "outputs": [
    {
     "name": "stdout",
     "output_type": "stream",
     "text": [
      "My name is Rajat Jain and I am 24 years old.\n"
     ]
    }
   ],
   "source": [
    "\n",
    "name = 'Rajat Jain'\n",
    "age = 24\n",
    "print(f'My name is {name} and I am {age} years old.')"
   ]
  },
  {
   "cell_type": "markdown",
   "id": "7d6e27a0",
   "metadata": {},
   "source": [
    "### Write code to print all the pre-defined keywords in Python using the keyword library"
   ]
  },
  {
   "cell_type": "code",
   "execution_count": 3,
   "id": "0668b15d",
   "metadata": {},
   "outputs": [
    {
     "name": "stdout",
     "output_type": "stream",
     "text": [
      "['False', 'None', 'True', 'and', 'as', 'assert', 'async', 'await', 'break', 'class', 'continue', 'def', 'del', 'elif', 'else', 'except', 'finally', 'for', 'from', 'global', 'if', 'import', 'in', 'is', 'lambda', 'nonlocal', 'not', 'or', 'pass', 'raise', 'return', 'try', 'while', 'with', 'yield']\n"
     ]
    }
   ],
   "source": [
    "\n",
    "import keyword\n",
    "print(keyword.kwlist)"
   ]
  },
  {
   "cell_type": "markdown",
   "id": "422bb9ec",
   "metadata": {},
   "source": [
    "### Write a program that checks if a given word is a Python keyword"
   ]
  },
  {
   "cell_type": "code",
   "execution_count": 4,
   "id": "7acf0240",
   "metadata": {},
   "outputs": [
    {
     "name": "stdout",
     "output_type": "stream",
     "text": [
      "for is a keyword: True\n"
     ]
    }
   ],
   "source": [
    "\n",
    "import keyword\n",
    "word = 'for'\n",
    "print(f'{word} is a keyword: {keyword.iskeyword(word)}')"
   ]
  },
  {
   "cell_type": "markdown",
   "id": "90ae1f19",
   "metadata": {},
   "source": [
    "### Create a list and tuple in Python, and demonstrate how attempting to change an element works differently for each"
   ]
  },
  {
   "cell_type": "code",
   "execution_count": 5,
   "id": "8f965429",
   "metadata": {},
   "outputs": [
    {
     "name": "stdout",
     "output_type": "stream",
     "text": [
      "[10, 2, 3]\n",
      "(1, 2, 3)\n"
     ]
    }
   ],
   "source": [
    "my_list = [1, 2, 3]\n",
    "my_list[0] = 10  \n",
    "print(my_list)\n",
    "\n",
    "my_tuple = (1, 2, 3)\n",
    "\n",
    "print(my_tuple)"
   ]
  },
  {
   "cell_type": "markdown",
   "id": "965a6274",
   "metadata": {},
   "source": [
    "### Write a function to demonstrate the behavior of mutable and immutable arguments"
   ]
  },
  {
   "cell_type": "code",
   "execution_count": 6,
   "id": "05d5958e",
   "metadata": {},
   "outputs": [
    {
     "name": "stdout",
     "output_type": "stream",
     "text": [
      "Inside function: 6 [1, 2, 3, 4]\n",
      "Outside function: 5 [1, 2, 3, 4]\n"
     ]
    }
   ],
   "source": [
    "def modify_data(num, lst):\n",
    "    num += 1 \n",
    "    lst.append(4)\n",
    "    print('Inside function:', num, lst)\n",
    "\n",
    "x = 5\n",
    "y = [1, 2, 3]\n",
    "modify_data(x, y)\n",
    "print('Outside function:', x, y)"
   ]
  },
  {
   "cell_type": "markdown",
   "id": "e41d6904",
   "metadata": {},
   "source": [
    "### Write a program to demonstrate the use of logical operators"
   ]
  },
  {
   "cell_type": "code",
   "execution_count": 7,
   "id": "67795428",
   "metadata": {},
   "outputs": [
    {
     "name": "stdout",
     "output_type": "stream",
     "text": [
      "False\n",
      "True\n",
      "False\n"
     ]
    }
   ],
   "source": [
    "x = True\n",
    "y = False\n",
    "print(x and y)\n",
    "print(x or y)\n",
    "print(not x)"
   ]
  },
  {
   "cell_type": "markdown",
   "id": "193a77f6",
   "metadata": {},
   "source": [
    "### Write a Python program to convert user input from string to integer, float, and boolean types"
   ]
  },
  {
   "cell_type": "code",
   "execution_count": 14,
   "id": "729bc476",
   "metadata": {},
   "outputs": [
    {
     "name": "stdout",
     "output_type": "stream",
     "text": [
      "10\n",
      "10 10.0 True\n"
     ]
    }
   ],
   "source": [
    "user_input = input()\n",
    "int_value = int(user_input)\n",
    "float_value = float(user_input)\n",
    "bool_value = bool(user_input)\n",
    "print(int_value, float_value, bool_value)"
   ]
  },
  {
   "cell_type": "markdown",
   "id": "5127fbe9",
   "metadata": {},
   "source": [
    "### Write code to demonstrate type casting with list elements"
   ]
  },
  {
   "cell_type": "code",
   "execution_count": 9,
   "id": "5fe5bc52",
   "metadata": {},
   "outputs": [
    {
     "name": "stdout",
     "output_type": "stream",
     "text": [
      "[1, 2, 3]\n"
     ]
    }
   ],
   "source": [
    "str_list = ['1', '2', '3']\n",
    "int_list = list(map(int, str_list))\n",
    "print(int_list)"
   ]
  },
  {
   "cell_type": "markdown",
   "id": "a5bffd82",
   "metadata": {},
   "source": [
    "### Write a program that checks if a number is positive, negative, or zero"
   ]
  },
  {
   "cell_type": "code",
   "execution_count": 10,
   "id": "719cb660",
   "metadata": {},
   "outputs": [
    {
     "name": "stdout",
     "output_type": "stream",
     "text": [
      "Negative\n"
     ]
    }
   ],
   "source": [
    "num = -5\n",
    "if num > 0:\n",
    "    print('Positive')\n",
    "elif num < 0:\n",
    "    print('Negative')\n",
    "else:\n",
    "    print('Zero')"
   ]
  },
  {
   "cell_type": "markdown",
   "id": "40f91a89",
   "metadata": {},
   "source": [
    "### Write a for loop to print numbers from 1 to 100"
   ]
  },
  {
   "cell_type": "code",
   "execution_count": 11,
   "id": "5395de9a",
   "metadata": {},
   "outputs": [
    {
     "name": "stdout",
     "output_type": "stream",
     "text": [
      "1 2 3 4 5 6 7 8 9 10 11 12 13 14 15 16 17 18 19 20 21 22 23 24 25 26 27 28 29 30 31 32 33 34 35 36 37 38 39 40 41 42 43 44 45 46 47 48 49 50 51 52 53 54 55 56 57 58 59 60 61 62 63 64 65 66 67 68 69 70 71 72 73 74 75 76 77 78 79 80 81 82 83 84 85 86 87 88 89 90 91 92 93 94 95 96 97 98 99 100 "
     ]
    }
   ],
   "source": [
    "\n",
    "for i in range(1, 101):\n",
    "    print(i, end=' ')"
   ]
  },
  {
   "cell_type": "markdown",
   "id": "e7c79ac4",
   "metadata": {},
   "source": [
    "### Write a Python program to find the sum of all even numbers between 1 and 500"
   ]
  },
  {
   "cell_type": "code",
   "execution_count": 12,
   "id": "d31d51f8",
   "metadata": {},
   "outputs": [
    {
     "name": "stdout",
     "output_type": "stream",
     "text": [
      "Sum of even numbers: 62750\n"
     ]
    }
   ],
   "source": [
    "even_sum = sum(range(2, 501, 2))\n",
    "print('Sum of even numbers:', even_sum)"
   ]
  },
  {
   "cell_type": "markdown",
   "id": "a4af515a",
   "metadata": {},
   "source": [
    "### Write a program to reverse a string using a while loop"
   ]
  },
  {
   "cell_type": "code",
   "execution_count": 13,
   "id": "34eb0abb",
   "metadata": {},
   "outputs": [
    {
     "name": "stdout",
     "output_type": "stream",
     "text": [
      "Reversed string: tajar\n"
     ]
    }
   ],
   "source": [
    "s = 'rajat'\n",
    "rev_s = ''\n",
    "i = len(s) - 1\n",
    "while i >= 0:\n",
    "    rev_s += s[i]\n",
    "    i -= 1\n",
    "print('Reversed string:', rev_s)"
   ]
  },
  {
   "cell_type": "markdown",
   "id": "8e3b52ac",
   "metadata": {},
   "source": [
    "### Write a Python program to calculate the factorial of a number provided by the user using a while loop"
   ]
  },
  {
   "cell_type": "code",
   "execution_count": 15,
   "id": "34e98f44",
   "metadata": {},
   "outputs": [
    {
     "name": "stdout",
     "output_type": "stream",
     "text": [
      "5\n",
      "Factorial: 120\n"
     ]
    }
   ],
   "source": [
    "num = int(input())\n",
    "factorial = 1\n",
    "while num > 1:\n",
    "    factorial *= num\n",
    "    num -= 1\n",
    "print('Factorial:', factorial)"
   ]
  }
 ],
 "metadata": {
  "kernelspec": {
   "display_name": "Python 3",
   "language": "python",
   "name": "python3"
  },
  "language_info": {
   "codemirror_mode": {
    "name": "ipython",
    "version": 3
   },
   "file_extension": ".py",
   "mimetype": "text/x-python",
   "name": "python",
   "nbconvert_exporter": "python",
   "pygments_lexer": "ipython3",
   "version": "3.7.6"
  }
 },
 "nbformat": 4,
 "nbformat_minor": 5
}
